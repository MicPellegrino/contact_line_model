{
 "cells": [
  {
   "cell_type": "code",
   "execution_count": null,
   "metadata": {},
   "outputs": [],
   "source": [
    "import comparison as cmp\n",
    "import numpy as np\n",
    "import matplotlib.pyplot as plt\n",
    "TWOPI = cmp.TWOPI"
   ]
  },
  {
   "cell_type": "code",
   "execution_count": null,
   "metadata": {},
   "outputs": [],
   "source": [
    "# RS = cmp.RoughSubstrate(l=3.0357142857142856,mu_f=5.34,R0=15,a=1,theta_g_0_flat=105.8,theta_e=55.6)\n",
    "# RS = cmp.RoughSubstrate(l=3.5,mu_f=5.34,R0=15,a=1,theta_g_0_flat=105.8,theta_e=55.6)\n",
    "# RS = cmp.RoughSubstrate(l=1.5,mu_f=5.34,R0=15,a=0.5,theta_g_0_flat=105.8,theta_e=55.6)\n",
    "\n",
    "etaw = 0.69\n",
    "Lx_sub = 20.7\n",
    "n_sub = 16\n",
    "l_sub = Lx_sub/n_sub\n",
    "\n",
    "muf_md = 5.659896689453016\n",
    "noise_md = 100*0.0054794921875\n",
    "\n",
    "RS = cmp.RoughSubstrate(l=l_sub,mu_f=muf_md,R0=20,a=1.0,theta_g_0_flat=105.8,theta_e=55.6,Gamma=noise_md)\n",
    "\n",
    "EM = cmp.EulerMurayama(RS=RS,t_fin=50.0,t_bin=0.1,M=25)\n",
    "EM.simulate_ode(RS)\n",
    "EM.simulate_sde(RS)\n",
    "\n",
    "theta_w = RS.theta_w\n",
    "print(\"theta_w       = \"+str(theta_w)+\" [deg]\")\n",
    "theta_fin_ode = EM.theta_g_vec[-1]\n",
    "print(\"theta_fin_ode = \"+str(theta_fin_ode)+\" [deg]\")\n",
    "theta_fin_sde = np.mean(EM.theta_g_ens[int(0.8*EM.Nt):])\n",
    "print(\"theta_fin_sde = \"+str(theta_fin_sde)+\" [deg]\")"
   ]
  },
  {
   "cell_type": "code",
   "execution_count": null,
   "metadata": {},
   "outputs": [],
   "source": [
    "%matplotlib notebook\n",
    "fig1, (ax1, ax2) = plt.subplots(2, 1)\n",
    "ax1.plot(RS.tau*EM.t_vec, TWOPI*EM.x_vec/RS.k, 'k-', linewidth=3.0)\n",
    "ax1.plot(RS.tau*EM.t_vec, TWOPI*EM.x_ens/RS.k, 'r-', linewidth=2.5)\n",
    "ax1.fill_between(RS.tau*EM.t_vec,TWOPI*(EM.x_ens+EM.x_std)/RS.k,TWOPI*(EM.x_ens-EM.x_std)/RS.k,color='r',alpha=0.5,linewidth=0.0)\n",
    "ax1.set_ylabel(r'$x_{cl}$ [nm]')#, fontsize=30.0)\n",
    "ax1.set_xlim([RS.tau*EM.t_vec[0], RS.tau*EM.t_vec[-1]])\n",
    "ax1.tick_params(axis='x',which='both',labelbottom=False)\n",
    "ax1.tick_params(axis='y')#, labelsize=25)\n",
    "ax2.plot(RS.tau*EM.t_vec, EM.theta_g_vec, 'k-', linewidth=3.0)\n",
    "ax2.plot(RS.tau*EM.t_vec, EM.theta_g_ens, 'r-', linewidth=2.0, label=r'$<x_{cl}>$')\n",
    "ax2.fill_between(RS.tau*EM.t_vec,EM.theta_g_ens+EM.theta_std,EM.theta_g_ens-EM.theta_std,color='r',alpha=0.5,linewidth=0.0)\n",
    "ax2.plot(RS.tau*EM.t_vec, RS.theta_w*np.ones(EM.t_vec.shape), 'b--', linewidth=3, label=r'$\\theta_W$')\n",
    "ax2.set_xlabel(r'$t$ [ns]')#, fontsize=30.0)\n",
    "ax2.set_ylabel(r'$\\theta_g$ [deg]')#, fontsize=30.0)\n",
    "ax2.set_xlim([RS.tau*EM.t_vec[0], RS.tau*EM.t_vec[-1]])\n",
    "ax2.legend()#fontsize=25)\n",
    "ax2.tick_params(axis='x')#, labelsize=25)\n",
    "ax2.tick_params(axis='y')#, labelsize=25)\n",
    "plt.show()"
   ]
  },
  {
   "cell_type": "code",
   "execution_count": null,
   "metadata": {
    "scrolled": true
   },
   "outputs": [],
   "source": [
    "# EM.fit_cl_friction(RS,mv=10000)\n",
    "EM.fit_cl_friction_ls(RS,mv=10000)"
   ]
  },
  {
   "cell_type": "code",
   "execution_count": null,
   "metadata": {},
   "outputs": [],
   "source": [
    "%matplotlib notebook\n",
    "fig1, (ax1, ax2) = plt.subplots(1, 2)\n",
    "ax1.plot(EM.t, EM.x_fit)\n",
    "ax1.plot(EM.t, EM.x)\n",
    "ax2.plot(EM.t, EM.v_fit)\n",
    "plt.show()"
   ]
  },
  {
   "cell_type": "code",
   "execution_count": null,
   "metadata": {},
   "outputs": [],
   "source": [
    "%matplotlib notebook\n",
    "fig, ax = plt.subplots(1, 1)\n",
    "plt.plot(EM.ct, EM.v_fit, 'k-', linewidth=3.0)\n",
    "plt.plot(EM.ct, EM.v_mkt, 'r-', linewidth=3.0, label='MKT fit')\n",
    "plt.tick_params(axis='x')#, labelsize=25)\n",
    "plt.tick_params(axis='y')#, labelsize=25)\n",
    "plt.legend()#fontsize=25)\n",
    "plt.xlabel(r'$\\cos<\\theta_g>$ []')#, fontsize=30.0)\n",
    "plt.ylabel(r'$<u_{cl}>$ [nm/ns]')#, fontsize=30.0)\n",
    "plt.show()"
   ]
  },
  {
   "cell_type": "code",
   "execution_count": null,
   "metadata": {},
   "outputs": [],
   "source": []
  }
 ],
 "metadata": {
  "kernelspec": {
   "display_name": "Python 3 (ipykernel)",
   "language": "python",
   "name": "python3"
  },
  "language_info": {
   "codemirror_mode": {
    "name": "ipython",
    "version": 3
   },
   "file_extension": ".py",
   "mimetype": "text/x-python",
   "name": "python",
   "nbconvert_exporter": "python",
   "pygments_lexer": "ipython3",
   "version": "3.11.11"
  }
 },
 "nbformat": 4,
 "nbformat_minor": 4
}
