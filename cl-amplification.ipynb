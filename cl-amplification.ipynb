{
 "cells": [
  {
   "cell_type": "code",
   "execution_count": 1,
   "id": "ad9b56ff",
   "metadata": {},
   "outputs": [
    {
     "name": "stdout",
     "output_type": "stream",
     "text": [
      "Surface tension       = 57.8 [mPa*m]\n",
      "Bulk viscosity        = 0.69 [mPa*s]\n"
     ]
    }
   ],
   "source": [
    "import comparison as cmp\n",
    "import numpy as np\n",
    "import matplotlib.pyplot as plt\n",
    "import scipy.special as sc_spc\n",
    "TWOPI = cmp.TWOPI"
   ]
  },
  {
   "cell_type": "code",
   "execution_count": 2,
   "id": "e92da4d0",
   "metadata": {},
   "outputs": [
    {
     "name": "stdout",
     "output_type": "stream",
     "text": [
      "[ PROGRESS 1/1600 ]\n",
      "C.l. friction         = 5.659896689453016 [cP]\n",
      "Corrugation length    = 0.5 [nm]\n",
      "Corrugation number    = 720.0 [1/nm]\n",
      "Droplet radius        = 15 [nm]\n",
      "Roughness coefficient = 0.0 [1]\n",
      "Initial c.a. on flat  = 105.8 [deg]\n",
      "Equilibrium c. a.     = 55.6 [deg]\n",
      "Reference time        = 0.048961044026410175 [ns]\n",
      "Corrugation height    = 0.0 [nm]\n",
      "Initial c. a          = 105.8 [deg]\n",
      "Initial c.l. distance = 17.617633998194336 [nm]\n",
      "[TEST] : theta_g_0    = 105.8 [deg]\n",
      "Noise (nondim.)       = 0.335 [1]\n",
      "Final time            = 30 [ns]\n",
      "T_fin (nondim.)       = 612.7320320991856 [1]\n",
      "dt (nondim.)          = 0.20424401069972858 [1]\n",
      "#replicas             = 50\n",
      "Simulating 50 replicates\n",
      "Eff. c.l. friction    = 32.45208913806267 [cP]\n",
      "theta_w       = 55.599999999999994 [deg]\n",
      "theta_fin_ode = 55.60010203507164 [deg]\n",
      "theta_fin_sde = 55.37045919554645 [deg]\n",
      "# ######################################## #\n",
      "[ PROGRESS 2/1600 ]\n",
      "C.l. friction         = 5.659896689453016 [cP]\n",
      "Corrugation length    = 0.5 [nm]\n",
      "Corrugation number    = 720.0 [1/nm]\n",
      "Droplet radius        = 15 [nm]\n",
      "Roughness coefficient = 0.02564102564102564 [1]\n",
      "Initial c.a. on flat  = 105.8 [deg]\n",
      "Equilibrium c. a.     = 55.6 [deg]\n",
      "Reference time        = 0.048961044026410175 [ns]\n",
      "Corrugation height    = 3.561253561253561e-05 [nm]\n",
      "Initial c. a          = 105.80266455948963 [deg]\n",
      "Initial c.l. distance = 17.617042396914243 [nm]\n",
      "[TEST] : theta_g_0    = 105.80266455948963 [deg]\n",
      "Noise (nondim.)       = 0.335 [1]\n",
      "Final time            = 30 [ns]\n",
      "T_fin (nondim.)       = 612.7320320991856 [1]\n",
      "dt (nondim.)          = 0.20424401069972858 [1]\n",
      "#replicas             = 50\n",
      "Simulating 50 replicates\n",
      "Eff. c.l. friction    = 14.916052093111448 [cP]\n",
      "theta_w       = 55.5935522821263 [deg]\n",
      "theta_fin_ode = 56.24967661956933 [deg]\n",
      "theta_fin_sde = 55.965363024969044 [deg]\n",
      "# ######################################## #\n",
      "[ PROGRESS 3/1600 ]\n",
      "C.l. friction         = 5.659896689453016 [cP]\n",
      "Corrugation length    = 0.5 [nm]\n",
      "Corrugation number    = 720.0 [1/nm]\n",
      "Droplet radius        = 15 [nm]\n",
      "Roughness coefficient = 0.05128205128205128 [1]\n",
      "Initial c.a. on flat  = 105.8 [deg]\n",
      "Equilibrium c. a.     = 55.6 [deg]\n",
      "Reference time        = 0.048961044026410175 [ns]\n",
      "Corrugation height    = 7.122507122507122e-05 [nm]\n",
      "Initial c. a          = 105.810654511484 [deg]\n",
      "Initial c.l. distance = 17.61526843766975 [nm]\n",
      "[TEST] : theta_g_0    = 105.810654511484 [deg]\n",
      "Noise (nondim.)       = 0.335 [1]\n",
      "Final time            = 30 [ns]\n",
      "T_fin (nondim.)       = 612.7320320991856 [1]\n",
      "dt (nondim.)          = 0.20424401069972858 [1]\n",
      "#replicas             = 50\n",
      "Simulating 50 replicates\n"
     ]
    },
    {
     "ename": "KeyboardInterrupt",
     "evalue": "",
     "output_type": "error",
     "traceback": [
      "\u001b[0;31m---------------------------------------------------------------------------\u001b[0m",
      "\u001b[0;31mKeyboardInterrupt\u001b[0m                         Traceback (most recent call last)",
      "Cell \u001b[0;32mIn[2], line 3\u001b[0m\n\u001b[1;32m      1\u001b[0m noise_opt \u001b[38;5;241m=\u001b[39m \u001b[38;5;241m0.335\u001b[39m\n\u001b[1;32m      2\u001b[0m cl_friction_md \u001b[38;5;241m=\u001b[39m \u001b[38;5;241m5.659896689453016\u001b[39m\n\u001b[0;32m----> 3\u001b[0m \u001b[43mcmp\u001b[49m\u001b[38;5;241;43m.\u001b[39;49m\u001b[43mproduction\u001b[49m\u001b[43m(\u001b[49m\u001b[43mnoise\u001b[49m\u001b[38;5;241;43m=\u001b[39;49m\u001b[43mnoise_opt\u001b[49m\u001b[43m,\u001b[49m\u001b[43m \u001b[49m\u001b[43mcl_friction\u001b[49m\u001b[38;5;241;43m=\u001b[39;49m\u001b[43mcl_friction_md\u001b[49m\u001b[43m,\u001b[49m\u001b[43m \u001b[49m\u001b[43mclf_plot_cutoff\u001b[49m\u001b[38;5;241;43m=\u001b[39;49m\u001b[38;5;241;43m30\u001b[39;49m\u001b[43m,\u001b[49m\u001b[43m \u001b[49m\u001b[43mM\u001b[49m\u001b[38;5;241;43m=\u001b[39;49m\u001b[38;5;241;43m50\u001b[39;49m\u001b[43m)\u001b[49m\n",
      "File \u001b[0;32m~/contact_line_model/comparison.py:421\u001b[0m, in \u001b[0;36mproduction\u001b[0;34m(FSL, FST, LBP, noise, cl_friction, clf_plot_cutoff, M, Np)\u001b[0m\n\u001b[1;32m    409\u001b[0m \u001b[38;5;66;03m# if MPI_RANK == MPI_ROOT :\u001b[39;00m\n\u001b[1;32m    410\u001b[0m     \u001b[38;5;66;03m# print(l_vec)\u001b[39;00m\n\u001b[1;32m    411\u001b[0m     \u001b[38;5;66;03m# print(a_vec)\u001b[39;00m\n\u001b[0;32m   (...)\u001b[0m\n\u001b[1;32m    416\u001b[0m \u001b[38;5;66;03m# l_vec = np.load('l_vec.npy')\u001b[39;00m\n\u001b[1;32m    417\u001b[0m \u001b[38;5;66;03m# a_vec = np.load('a_vec.npy')\u001b[39;00m\n\u001b[1;32m    419\u001b[0m L, A \u001b[38;5;241m=\u001b[39m np\u001b[38;5;241m.\u001b[39mmeshgrid(l_vec,a_vec,sparse\u001b[38;5;241m=\u001b[39m\u001b[38;5;28;01mFalse\u001b[39;00m,indexing\u001b[38;5;241m=\u001b[39m\u001b[38;5;124m'\u001b[39m\u001b[38;5;124mij\u001b[39m\u001b[38;5;124m'\u001b[39m)\n\u001b[0;32m--> 421\u001b[0m \u001b[43mparametric_study\u001b[49m\u001b[43m(\u001b[49m\u001b[43mnoise\u001b[49m\u001b[43m,\u001b[49m\u001b[43ml_vec\u001b[49m\u001b[43m,\u001b[49m\u001b[43ma_vec\u001b[49m\u001b[43m,\u001b[49m\u001b[43mmu_f\u001b[49m\u001b[38;5;241;43m=\u001b[39;49m\u001b[43mcl_friction\u001b[49m\u001b[43m,\u001b[49m\u001b[43mR0\u001b[49m\u001b[38;5;241;43m=\u001b[39;49m\u001b[38;5;241;43m15\u001b[39;49m\u001b[43m,\u001b[49m\u001b[43mM\u001b[49m\u001b[38;5;241;43m=\u001b[39;49m\u001b[43mM\u001b[49m\u001b[43m,\u001b[49m\u001b[43mt_fin\u001b[49m\u001b[38;5;241;43m=\u001b[39;49m\u001b[38;5;241;43m30\u001b[39;49m\u001b[43m,\u001b[49m\u001b[43mt_bin\u001b[49m\u001b[38;5;241;43m=\u001b[39;49m\u001b[38;5;241;43m0.1\u001b[39;49m\u001b[43m)\u001b[49m\n\u001b[1;32m    423\u001b[0m \u001b[38;5;28;01mif\u001b[39;00m MPI_RANK \u001b[38;5;241m==\u001b[39m MPI_ROOT :\n\u001b[1;32m    424\u001b[0m     d1 \u001b[38;5;241m=\u001b[39m np\u001b[38;5;241m.\u001b[39mload(\u001b[38;5;124m'\u001b[39m\u001b[38;5;124mdiff_ode.npy\u001b[39m\u001b[38;5;124m'\u001b[39m)\n",
      "File \u001b[0;32m~/contact_line_model/comparison.py:378\u001b[0m, in \u001b[0;36mparametric_study\u001b[0;34m(noise, l_vec, a_vec, mu_f, R0, theta_g_0_flat, theta_e, t_fin, t_bin, M, mvfit)\u001b[0m\n\u001b[1;32m    376\u001b[0m EM \u001b[38;5;241m=\u001b[39m EulerMurayama(RS\u001b[38;5;241m=\u001b[39mRS,t_fin\u001b[38;5;241m=\u001b[39mt_fin,t_bin\u001b[38;5;241m=\u001b[39mt_bin,M\u001b[38;5;241m=\u001b[39mM)\n\u001b[1;32m    377\u001b[0m EM\u001b[38;5;241m.\u001b[39msimulate_ode(RS)\n\u001b[0;32m--> 378\u001b[0m \u001b[43mEM\u001b[49m\u001b[38;5;241;43m.\u001b[39;49m\u001b[43msimulate_sde\u001b[49m\u001b[43m(\u001b[49m\u001b[43mRS\u001b[49m\u001b[43m)\u001b[49m\n\u001b[1;32m    379\u001b[0m \u001b[38;5;66;03m# p0 = EM.fit_cl_friction(RS,p0,mv=mvfit)\u001b[39;00m\n\u001b[1;32m    380\u001b[0m p0 \u001b[38;5;241m=\u001b[39m EM\u001b[38;5;241m.\u001b[39mfit_cl_friction_ls(RS,p0_cf\u001b[38;5;241m=\u001b[39mp0,mv\u001b[38;5;241m=\u001b[39mmvfit)\n",
      "File \u001b[0;32m~/contact_line_model/comparison.py:193\u001b[0m, in \u001b[0;36mEulerMurayama.simulate_sde\u001b[0;34m(self, RS)\u001b[0m\n\u001b[1;32m    191\u001b[0m \u001b[38;5;66;03m##### TO OPTIMIZE #####\u001b[39;00m\n\u001b[1;32m    192\u001b[0m \u001b[38;5;28;01mfor\u001b[39;00m n \u001b[38;5;129;01min\u001b[39;00m \u001b[38;5;28mrange\u001b[39m(\u001b[38;5;28mself\u001b[39m\u001b[38;5;241m.\u001b[39mNt) :\n\u001b[0;32m--> 193\u001b[0m     x \u001b[38;5;241m=\u001b[39m x \u001b[38;5;241m+\u001b[39m ( \u001b[43mRS\u001b[49m\u001b[38;5;241;43m.\u001b[39;49m\u001b[43mV\u001b[49m\u001b[43m(\u001b[49m\u001b[43mx\u001b[49m\u001b[43m)\u001b[49m\u001b[38;5;241m*\u001b[39m\u001b[38;5;28mself\u001b[39m\u001b[38;5;241m.\u001b[39mdt \u001b[38;5;241m+\u001b[39m np\u001b[38;5;241m.\u001b[39msqrt(RS\u001b[38;5;241m.\u001b[39mGamma\u001b[38;5;241m*\u001b[39m\u001b[38;5;28mself\u001b[39m\u001b[38;5;241m.\u001b[39mdt)\u001b[38;5;241m*\u001b[39mrand_vec[n]\u001b[38;5;241m/\u001b[39mRS\u001b[38;5;241m.\u001b[39mdsdx(x) )\n\u001b[1;32m    194\u001b[0m     x_vec_m_loc\u001b[38;5;241m.\u001b[39mappend(x)\n\u001b[1;32m    195\u001b[0m     RS\u001b[38;5;241m.\u001b[39mtheta_try \u001b[38;5;241m=\u001b[39m RS\u001b[38;5;241m.\u001b[39mtheta_g(RS\u001b[38;5;241m.\u001b[39mm2m\u001b[38;5;241m*\u001b[39mx)\n",
      "File \u001b[0;32m~/contact_line_model/comparison.py:137\u001b[0m, in \u001b[0;36mRoughSubstrate.__init__.<locals>.<lambda>\u001b[0;34m(x)\u001b[0m\n\u001b[1;32m    135\u001b[0m \u001b[38;5;28mself\u001b[39m\u001b[38;5;241m.\u001b[39mdsdx \u001b[38;5;241m=\u001b[39m \u001b[38;5;28;01mlambda\u001b[39;00m x : np\u001b[38;5;241m.\u001b[39msqrt(\u001b[38;5;241m1.0\u001b[39m\u001b[38;5;241m+\u001b[39m(\u001b[38;5;28mself\u001b[39m\u001b[38;5;241m.\u001b[39ma\u001b[38;5;241m*\u001b[39mcos(TWOPI\u001b[38;5;241m*\u001b[39mx))\u001b[38;5;241m*\u001b[39m\u001b[38;5;241m*\u001b[39m\u001b[38;5;241m2\u001b[39m)\n\u001b[1;32m    136\u001b[0m \u001b[38;5;66;03m# MKT Potential (input: coordinate rescaled over the wavelength)\u001b[39;00m\n\u001b[0;32m--> 137\u001b[0m \u001b[38;5;28mself\u001b[39m\u001b[38;5;241m.\u001b[39mV \u001b[38;5;241m=\u001b[39m \u001b[38;5;28;01mlambda\u001b[39;00m x : (cos(\u001b[38;5;28mself\u001b[39m\u001b[38;5;241m.\u001b[39mtheta_e)\u001b[38;5;241m-\u001b[39mcos(\u001b[38;5;28;43mself\u001b[39;49m\u001b[38;5;241;43m.\u001b[39;49m\u001b[43mphi\u001b[49m\u001b[43m(\u001b[49m\u001b[43mx\u001b[49m\u001b[43m)\u001b[49m))\u001b[38;5;241m/\u001b[39m\u001b[38;5;28mself\u001b[39m\u001b[38;5;241m.\u001b[39mdsdx(x)\n",
      "File \u001b[0;32m~/contact_line_model/comparison.py:133\u001b[0m, in \u001b[0;36mRoughSubstrate.__init__.<locals>.<lambda>\u001b[0;34m(x)\u001b[0m\n\u001b[1;32m    130\u001b[0m     \u001b[38;5;28mprint\u001b[39m(\u001b[38;5;124m\"\u001b[39m\u001b[38;5;124mNoise (nondim.)       = \u001b[39m\u001b[38;5;124m\"\u001b[39m\u001b[38;5;241m+\u001b[39m\u001b[38;5;28mstr\u001b[39m(\u001b[38;5;28mself\u001b[39m\u001b[38;5;241m.\u001b[39mGamma)\u001b[38;5;241m+\u001b[39m\u001b[38;5;124m\"\u001b[39m\u001b[38;5;124m [1]\u001b[39m\u001b[38;5;124m\"\u001b[39m)\n\u001b[1;32m    132\u001b[0m \u001b[38;5;66;03m# Microscopic angle (input: coordinate rescaled over the wavelength)\u001b[39;00m\n\u001b[0;32m--> 133\u001b[0m \u001b[38;5;28mself\u001b[39m\u001b[38;5;241m.\u001b[39mphi \u001b[38;5;241m=\u001b[39m \u001b[38;5;28;01mlambda\u001b[39;00m x : \u001b[38;5;28;43mself\u001b[39;49m\u001b[38;5;241;43m.\u001b[39;49m\u001b[43mtheta_g\u001b[49m\u001b[43m(\u001b[49m\u001b[38;5;28;43mself\u001b[39;49m\u001b[38;5;241;43m.\u001b[39;49m\u001b[43mm2m\u001b[49m\u001b[38;5;241;43m*\u001b[39;49m\u001b[43mx\u001b[49m\u001b[43m)\u001b[49m \u001b[38;5;241m+\u001b[39m tan_m1(\u001b[38;5;28mself\u001b[39m\u001b[38;5;241m.\u001b[39ma\u001b[38;5;241m*\u001b[39mcos(TWOPI\u001b[38;5;241m*\u001b[39mx))\n\u001b[1;32m    134\u001b[0m \u001b[38;5;66;03m# Curvilinear coordinates measure (input: coordinate rescaled over the wavelength)\u001b[39;00m\n\u001b[1;32m    135\u001b[0m \u001b[38;5;28mself\u001b[39m\u001b[38;5;241m.\u001b[39mdsdx \u001b[38;5;241m=\u001b[39m \u001b[38;5;28;01mlambda\u001b[39;00m x : np\u001b[38;5;241m.\u001b[39msqrt(\u001b[38;5;241m1.0\u001b[39m\u001b[38;5;241m+\u001b[39m(\u001b[38;5;28mself\u001b[39m\u001b[38;5;241m.\u001b[39ma\u001b[38;5;241m*\u001b[39mcos(TWOPI\u001b[38;5;241m*\u001b[39mx))\u001b[38;5;241m*\u001b[39m\u001b[38;5;241m*\u001b[39m\u001b[38;5;241m2\u001b[39m)\n",
      "File \u001b[0;32m~/contact_line_model/comparison.py:119\u001b[0m, in \u001b[0;36mRoughSubstrate.__init__.<locals>.<lambda>\u001b[0;34m(x)\u001b[0m\n\u001b[1;32m    117\u001b[0m \u001b[38;5;66;03m# Macroscopic angle, given by circular cap (input: coordinate rescaled over R0)\u001b[39;00m\n\u001b[1;32m    118\u001b[0m \u001b[38;5;28mself\u001b[39m\u001b[38;5;241m.\u001b[39mtheta_try \u001b[38;5;241m=\u001b[39m \u001b[38;5;28mself\u001b[39m\u001b[38;5;241m.\u001b[39mtheta_g_0\n\u001b[0;32m--> 119\u001b[0m \u001b[38;5;28mself\u001b[39m\u001b[38;5;241m.\u001b[39mtheta_g \u001b[38;5;241m=\u001b[39m \u001b[38;5;28;01mlambda\u001b[39;00m x : \u001b[43msc_opt\u001b[49m\u001b[38;5;241;43m.\u001b[39;49m\u001b[43mfsolve\u001b[49m\u001b[43m(\u001b[49m\u001b[38;5;28;43;01mlambda\u001b[39;49;00m\u001b[43m \u001b[49m\u001b[43mt\u001b[49m\u001b[43m \u001b[49m\u001b[43m:\u001b[49m\u001b[43m \u001b[49m\u001b[43maux_fsolve\u001b[49m\u001b[43m(\u001b[49m\u001b[43mx\u001b[49m\u001b[43m,\u001b[49m\u001b[43mt\u001b[49m\u001b[43m)\u001b[49m\u001b[43m,\u001b[49m\u001b[43m \u001b[49m\u001b[38;5;28;43mself\u001b[39;49m\u001b[38;5;241;43m.\u001b[39;49m\u001b[43mtheta_try\u001b[49m\u001b[43m)\u001b[49m[\u001b[38;5;241m0\u001b[39m]\n\u001b[1;32m    121\u001b[0m \u001b[38;5;28;01mif\u001b[39;00m Gamma \u001b[38;5;241m==\u001b[39m \u001b[38;5;28;01mNone\u001b[39;00m :\n\u001b[1;32m    122\u001b[0m     \u001b[38;5;28mself\u001b[39m\u001b[38;5;241m.\u001b[39mGamma \u001b[38;5;241m=\u001b[39m (\u001b[38;5;241m2\u001b[39m\u001b[38;5;241m*\u001b[39mkB\u001b[38;5;241m*\u001b[39mT)\u001b[38;5;241m/\u001b[39m(Ly\u001b[38;5;241m*\u001b[39ml\u001b[38;5;241m*\u001b[39m\u001b[38;5;241m10\u001b[39m\u001b[38;5;241m*\u001b[39mgamma)\n",
      "File \u001b[0;32m~/mambaforge/envs/cl-friction/lib/python3.11/site-packages/scipy/optimize/_minpack_py.py:170\u001b[0m, in \u001b[0;36mfsolve\u001b[0;34m(func, x0, args, fprime, full_output, col_deriv, xtol, maxfev, band, epsfcn, factor, diag)\u001b[0m\n\u001b[1;32m    160\u001b[0m _wrapped_func\u001b[38;5;241m.\u001b[39mnfev \u001b[38;5;241m=\u001b[39m \u001b[38;5;241m0\u001b[39m\n\u001b[1;32m    162\u001b[0m options \u001b[38;5;241m=\u001b[39m {\u001b[38;5;124m'\u001b[39m\u001b[38;5;124mcol_deriv\u001b[39m\u001b[38;5;124m'\u001b[39m: col_deriv,\n\u001b[1;32m    163\u001b[0m            \u001b[38;5;124m'\u001b[39m\u001b[38;5;124mxtol\u001b[39m\u001b[38;5;124m'\u001b[39m: xtol,\n\u001b[1;32m    164\u001b[0m            \u001b[38;5;124m'\u001b[39m\u001b[38;5;124mmaxfev\u001b[39m\u001b[38;5;124m'\u001b[39m: maxfev,\n\u001b[0;32m   (...)\u001b[0m\n\u001b[1;32m    167\u001b[0m            \u001b[38;5;124m'\u001b[39m\u001b[38;5;124mfactor\u001b[39m\u001b[38;5;124m'\u001b[39m: factor,\n\u001b[1;32m    168\u001b[0m            \u001b[38;5;124m'\u001b[39m\u001b[38;5;124mdiag\u001b[39m\u001b[38;5;124m'\u001b[39m: diag}\n\u001b[0;32m--> 170\u001b[0m res \u001b[38;5;241m=\u001b[39m \u001b[43m_root_hybr\u001b[49m\u001b[43m(\u001b[49m\u001b[43m_wrapped_func\u001b[49m\u001b[43m,\u001b[49m\u001b[43m \u001b[49m\u001b[43mx0\u001b[49m\u001b[43m,\u001b[49m\u001b[43m \u001b[49m\u001b[43margs\u001b[49m\u001b[43m,\u001b[49m\u001b[43m \u001b[49m\u001b[43mjac\u001b[49m\u001b[38;5;241;43m=\u001b[39;49m\u001b[43mfprime\u001b[49m\u001b[43m,\u001b[49m\u001b[43m \u001b[49m\u001b[38;5;241;43m*\u001b[39;49m\u001b[38;5;241;43m*\u001b[39;49m\u001b[43moptions\u001b[49m\u001b[43m)\u001b[49m\n\u001b[1;32m    171\u001b[0m res\u001b[38;5;241m.\u001b[39mnfev \u001b[38;5;241m=\u001b[39m _wrapped_func\u001b[38;5;241m.\u001b[39mnfev\n\u001b[1;32m    173\u001b[0m \u001b[38;5;28;01mif\u001b[39;00m full_output:\n",
      "File \u001b[0;32m~/mambaforge/envs/cl-friction/lib/python3.11/site-packages/scipy/optimize/_minpack_py.py:238\u001b[0m, in \u001b[0;36m_root_hybr\u001b[0;34m(func, x0, args, jac, col_deriv, xtol, maxfev, band, eps, factor, diag, **unknown_options)\u001b[0m\n\u001b[1;32m    236\u001b[0m \u001b[38;5;28;01mif\u001b[39;00m \u001b[38;5;129;01mnot\u001b[39;00m \u001b[38;5;28misinstance\u001b[39m(args, \u001b[38;5;28mtuple\u001b[39m):\n\u001b[1;32m    237\u001b[0m     args \u001b[38;5;241m=\u001b[39m (args,)\n\u001b[0;32m--> 238\u001b[0m shape, dtype \u001b[38;5;241m=\u001b[39m \u001b[43m_check_func\u001b[49m\u001b[43m(\u001b[49m\u001b[38;5;124;43m'\u001b[39;49m\u001b[38;5;124;43mfsolve\u001b[39;49m\u001b[38;5;124;43m'\u001b[39;49m\u001b[43m,\u001b[49m\u001b[43m \u001b[49m\u001b[38;5;124;43m'\u001b[39;49m\u001b[38;5;124;43mfunc\u001b[39;49m\u001b[38;5;124;43m'\u001b[39;49m\u001b[43m,\u001b[49m\u001b[43m \u001b[49m\u001b[43mfunc\u001b[49m\u001b[43m,\u001b[49m\u001b[43m \u001b[49m\u001b[43mx0\u001b[49m\u001b[43m,\u001b[49m\u001b[43m \u001b[49m\u001b[43margs\u001b[49m\u001b[43m,\u001b[49m\u001b[43m \u001b[49m\u001b[43mn\u001b[49m\u001b[43m,\u001b[49m\u001b[43m \u001b[49m\u001b[43m(\u001b[49m\u001b[43mn\u001b[49m\u001b[43m,\u001b[49m\u001b[43m)\u001b[49m\u001b[43m)\u001b[49m\n\u001b[1;32m    239\u001b[0m \u001b[38;5;28;01mif\u001b[39;00m epsfcn \u001b[38;5;129;01mis\u001b[39;00m \u001b[38;5;28;01mNone\u001b[39;00m:\n\u001b[1;32m    240\u001b[0m     epsfcn \u001b[38;5;241m=\u001b[39m finfo(dtype)\u001b[38;5;241m.\u001b[39meps\n",
      "File \u001b[0;32m~/mambaforge/envs/cl-friction/lib/python3.11/site-packages/scipy/optimize/_minpack_py.py:38\u001b[0m, in \u001b[0;36m_check_func\u001b[0;34m(checker, argname, thefunc, x0, args, numinputs, output_shape)\u001b[0m\n\u001b[1;32m     36\u001b[0m         msg \u001b[38;5;241m+\u001b[39m\u001b[38;5;241m=\u001b[39m \u001b[38;5;124mf\u001b[39m\u001b[38;5;124m'\u001b[39m\u001b[38;5;124mShape should be \u001b[39m\u001b[38;5;132;01m{\u001b[39;00moutput_shape\u001b[38;5;132;01m}\u001b[39;00m\u001b[38;5;124m but it is \u001b[39m\u001b[38;5;132;01m{\u001b[39;00mshape(res)\u001b[38;5;132;01m}\u001b[39;00m\u001b[38;5;124m.\u001b[39m\u001b[38;5;124m'\u001b[39m\n\u001b[1;32m     37\u001b[0m         \u001b[38;5;28;01mraise\u001b[39;00m \u001b[38;5;167;01mTypeError\u001b[39;00m(msg)\n\u001b[0;32m---> 38\u001b[0m \u001b[38;5;28;01mif\u001b[39;00m \u001b[43missubdtype\u001b[49m\u001b[43m(\u001b[49m\u001b[43mres\u001b[49m\u001b[38;5;241;43m.\u001b[39;49m\u001b[43mdtype\u001b[49m\u001b[43m,\u001b[49m\u001b[43m \u001b[49m\u001b[43minexact\u001b[49m\u001b[43m)\u001b[49m:\n\u001b[1;32m     39\u001b[0m     dt \u001b[38;5;241m=\u001b[39m res\u001b[38;5;241m.\u001b[39mdtype\n\u001b[1;32m     40\u001b[0m \u001b[38;5;28;01melse\u001b[39;00m:\n",
      "File \u001b[0;32m~/mambaforge/envs/cl-friction/lib/python3.11/site-packages/numpy/_core/numerictypes.py:530\u001b[0m, in \u001b[0;36missubdtype\u001b[0;34m(arg1, arg2)\u001b[0m\n\u001b[1;32m    473\u001b[0m \u001b[38;5;250m\u001b[39m\u001b[38;5;124mr\u001b[39m\u001b[38;5;124;03m\"\"\"\u001b[39;00m\n\u001b[1;32m    474\u001b[0m \u001b[38;5;124;03mReturns True if first argument is a typecode lower/equal in type hierarchy.\u001b[39;00m\n\u001b[1;32m    475\u001b[0m \n\u001b[0;32m   (...)\u001b[0m\n\u001b[1;32m    527\u001b[0m \n\u001b[1;32m    528\u001b[0m \u001b[38;5;124;03m\"\"\"\u001b[39;00m\n\u001b[1;32m    529\u001b[0m \u001b[38;5;28;01mif\u001b[39;00m \u001b[38;5;129;01mnot\u001b[39;00m issubclass_(arg1, generic):\n\u001b[0;32m--> 530\u001b[0m     arg1 \u001b[38;5;241m=\u001b[39m \u001b[43mdtype\u001b[49m\u001b[43m(\u001b[49m\u001b[43marg1\u001b[49m\u001b[43m)\u001b[49m\u001b[38;5;241m.\u001b[39mtype\n\u001b[1;32m    531\u001b[0m \u001b[38;5;28;01mif\u001b[39;00m \u001b[38;5;129;01mnot\u001b[39;00m issubclass_(arg2, generic):\n\u001b[1;32m    532\u001b[0m     arg2 \u001b[38;5;241m=\u001b[39m dtype(arg2)\u001b[38;5;241m.\u001b[39mtype\n",
      "\u001b[0;31mKeyboardInterrupt\u001b[0m: "
     ]
    }
   ],
   "source": [
    "### NEEDS TO BE ACCELERATED WITH MPI!!! ###\n",
    "noise_opt = 0.335\n",
    "cl_friction_md = 5.659896689453016\n",
    "cmp.production(noise=noise_opt, cl_friction=cl_friction_md, clf_plot_cutoff=30, M=50)"
   ]
  },
  {
   "cell_type": "code",
   "execution_count": null,
   "id": "88c593dd",
   "metadata": {},
   "outputs": [],
   "source": []
  }
 ],
 "metadata": {
  "kernelspec": {
   "display_name": "Python 3 (ipykernel)",
   "language": "python",
   "name": "python3"
  },
  "language_info": {
   "codemirror_mode": {
    "name": "ipython",
    "version": 3
   },
   "file_extension": ".py",
   "mimetype": "text/x-python",
   "name": "python",
   "nbconvert_exporter": "python",
   "pygments_lexer": "ipython3",
   "version": "3.11.11"
  }
 },
 "nbformat": 4,
 "nbformat_minor": 5
}
