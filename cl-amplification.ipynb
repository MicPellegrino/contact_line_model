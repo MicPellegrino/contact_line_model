{
 "cells": [
  {
   "cell_type": "code",
   "execution_count": null,
   "id": "ad9b56ff",
   "metadata": {},
   "outputs": [],
   "source": [
    "import comparison as cmp\n",
    "import numpy as np\n",
    "import matplotlib.pyplot as plt\n",
    "import scipy.special as sc_spc\n",
    "from matplotlib import cm\n",
    "TWOPI = cmp.TWOPI"
   ]
  },
  {
   "cell_type": "code",
   "execution_count": null,
   "id": "e92da4d0",
   "metadata": {},
   "outputs": [],
   "source": [
    "### NEEDS TO BE ACCELERATED WITH MPI!!! ###\n",
    "noise_opt = 0.335\n",
    "cl_friction_md = 5.659896689453016\n",
    "# cmp.parametric_study(...)"
   ]
  },
  {
   "cell_type": "code",
   "execution_count": null,
   "id": "96ffbe96",
   "metadata": {},
   "outputs": [],
   "source": [
    "FSL=25\n",
    "FST=20\n",
    "LBP=35\n",
    "clf_plot_cutoff=5\n",
    "Np=40"
   ]
  },
  {
   "cell_type": "code",
   "execution_count": null,
   "id": "4fdb30f5",
   "metadata": {},
   "outputs": [],
   "source": [
    "l_vec = np.linspace(0.5,3.5,Np)\n",
    "a_vec = np.linspace(0,1.0,Np)\n",
    "L, A = np.meshgrid(l_vec,a_vec,sparse=False,indexing='ij')"
   ]
  },
  {
   "cell_type": "code",
   "execution_count": null,
   "id": "d01766d8",
   "metadata": {},
   "outputs": [],
   "source": [
    "d1 = np.load('diff_ode.npy')\n",
    "d2 = np.load('diff_sde.npy')\n",
    "mr = np.load('mu_f_ratio.npy')"
   ]
  },
  {
   "cell_type": "code",
   "execution_count": null,
   "id": "28115097",
   "metadata": {},
   "outputs": [],
   "source": [
    "%matplotlib notebook\n",
    "\n",
    "# vmax = max(np.max(d1),np.max(d2))\n",
    "\n",
    "fig1, (ax1, ax2) = plt.subplots(1, 2)\n",
    "# dmap1 = ax1.pcolormesh(L,A,d1,vmin=0,vmax=vmax,cmap=cm.plasma)\n",
    "dmap1 = ax1.pcolormesh(L,A,d1,vmin=0,vmax=np.max(d1),cmap=cm.plasma)\n",
    "ax1.set_xlabel('l [nm]',fontsize=FSL)\n",
    "ax1.set_ylabel('a [1]',fontsize=FSL)\n",
    "ax1.tick_params(labelsize=FST)\n",
    "cb1 = plt.colorbar(dmap1,ax=ax1)\n",
    "cb1.ax.set_ylabel(r'$|\\theta_{\\infty}-\\theta_W|$', rotation=270,fontsize=0.8*FSL,labelpad=LBP)\n",
    "cb1.ax.tick_params(labelsize=0.8*FST)\n",
    "# dmap2 = ax2.pcolormesh(L,A,d2,vmin=0,vmax=vmax,cmap=cm.plasma)\n",
    "dmap2 = ax2.pcolormesh(L,A,d2,vmin=0,vmax=np.max(d2),cmap=cm.plasma)\n",
    "ax2.set_xlabel('l [nm]',fontsize=FSL)\n",
    "ax2.set_ylabel('a [1]',fontsize=FSL)\n",
    "ax2.tick_params(labelsize=FST)\n",
    "cb2 = plt.colorbar(dmap2,ax=ax2)\n",
    "cb2.ax.set_ylabel(r'$|\\theta_{\\infty}-\\theta_W|$', rotation=270,fontsize=0.8*FSL,labelpad=LBP)\n",
    "cb2.ax.tick_params(labelsize=0.8*FST)\n",
    "plt.tight_layout()\n",
    "plt.savefig('ca-hysteresis.png')\n",
    "plt.show()"
   ]
  },
  {
   "cell_type": "code",
   "execution_count": null,
   "id": "88c593dd",
   "metadata": {},
   "outputs": [],
   "source": [
    "%matplotlib notebook\n",
    "\n",
    "# vmax = max(np.max(d1),np.max(d2))\n",
    "\n",
    "fig1, (ax1, ax2) = plt.subplots(1, 2)\n",
    "# dmap1 = ax1.pcolormesh(L,A,d2,vmin=0,vmax=vmax,cmap=cm.plasma)\n",
    "dmap1 = ax1.pcolormesh(L,A,d2,vmin=0,vmax=np.max(d2),cmap=cm.plasma)\n",
    "ax1.set_xlabel('l [nm]',fontsize=FSL)\n",
    "ax1.set_ylabel('a [1]',fontsize=FSL)\n",
    "ax1.tick_params(labelsize=FST)\n",
    "cb1 = plt.colorbar(dmap1,ax=ax1)\n",
    "cb1.ax.set_ylabel(r'$|\\theta_{\\infty}-\\theta_W|$', rotation=270,fontsize=0.8*FSL,labelpad=LBP)\n",
    "cb1.ax.tick_params(labelsize=0.8*FST)\n",
    "dmap2 = ax2.pcolormesh(L,A,np.log(mr),vmin=1,vmax=clf_plot_cutoff,cmap=cm.plasma)\n",
    "# dmap2 = ax2.pcolormesh(L,A,mr,vmin=1,vmax=500,cmap=cm.plasma)\n",
    "ax2.set_xlabel('l [nm]',fontsize=FSL)\n",
    "ax2.set_ylabel('a [1]',fontsize=FSL)\n",
    "ax2.tick_params(labelsize=FST)\n",
    "cb2 = plt.colorbar(dmap2,ax=ax2)\n",
    "cb2.ax.set_ylabel(r'$\\log(\\mu_f^*/\\mu_f)$', rotation=270,fontsize=0.8*FSL,labelpad=LBP)\n",
    "# cb2.ax.set_ylabel(r'$\\mu_f^*/\\mu_f$', rotation=270,fontsize=0.8*FSL,labelpad=LBP)\n",
    "cb2.ax.tick_params(labelsize=0.8*FST)\n",
    "plt.tight_layout()\n",
    "plt.savefig('friction-amplification.png')\n",
    "plt.show()"
   ]
  }
 ],
 "metadata": {
  "kernelspec": {
   "display_name": "Python 3 (ipykernel)",
   "language": "python",
   "name": "python3"
  },
  "language_info": {
   "codemirror_mode": {
    "name": "ipython",
    "version": 3
   },
   "file_extension": ".py",
   "mimetype": "text/x-python",
   "name": "python",
   "nbconvert_exporter": "python",
   "pygments_lexer": "ipython3",
   "version": "3.11.11"
  }
 },
 "nbformat": 4,
 "nbformat_minor": 5
}
